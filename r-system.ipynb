{
 "cells": [
  {
   "cell_type": "markdown",
   "id": "46bjGsrveqWF",
   "metadata": {
    "id": "46bjGsrveqWF"
   },
   "source": [
    "# Sistema de Recomendación"
   ]
  },
  {
   "cell_type": "markdown",
   "id": "584a0bb8",
   "metadata": {},
   "source": [
    "### Descripción del problema"
   ]
  },
  {
   "cell_type": "markdown",
   "id": "04a90c82",
   "metadata": {},
   "source": [
    "El problema que se va a tratar en este proyecto consiste en la realización de un sistema de recomendación de productos de una aplicación de un comercio. Se quiere aparezca una sección de productos recomendados que le podrían interesar a un determinado usuario."
   ]
  },
  {
   "cell_type": "markdown",
   "id": "b6d5f500",
   "metadata": {},
   "source": [
    "### Investigación"
   ]
  },
  {
   "cell_type": "markdown",
   "id": "8f439419",
   "metadata": {},
   "source": [
    "Tras realizar una investigación con la implementación de sistemas de recomendación por usuarios se ha encontrado una variedad de formas de implementar el sistema. Las más comúnes son:"
   ]
  },
  {
   "cell_type": "markdown",
   "id": "b517d392",
   "metadata": {},
   "source": [
    "#### Filtrado Colaborativo"
   ]
  },
  {
   "cell_type": "markdown",
   "id": "37c60400",
   "metadata": {},
   "source": [
    "Este método se basa en la colaboración entre múltiples usuarios para hacer recomendaciones. Asume que si un usuario A tiene gustos similares a los de un usuario B, A probablemente disfrutará ítems que B ha disfrutado.\n",
    "\n",
    "Tipos:\n",
    "- Basado en Usuarios: Recomienda ítems basándose en la similitud entre usuarios.\n",
    "- Basado en Ítems: Recomienda ítems basándose en la similitud entre los propios ítems.\n"
   ]
  },
  {
   "cell_type": "markdown",
   "id": "075204c5",
   "metadata": {},
   "source": [
    "#### Filtrado Basado en Contenido"
   ]
  },
  {
   "cell_type": "markdown",
   "id": "3a101c7a",
   "metadata": {},
   "source": [
    "Utiliza las características de los ítems y el perfil del usuario para hacer recomendaciones. Se basa en la descripción de los ítems y en un perfil del usuario que indica sus preferencias.\n",
    "\n",
    "Ejemplo: Si a un usuario le gusta un libro de ciencia ficción, el sistema recomendará otros libros de ciencia ficción."
   ]
  },
  {
   "cell_type": "markdown",
   "id": "a0a834fb",
   "metadata": {},
   "source": [
    "#### Sistemas Híbridos"
   ]
  },
  {
   "cell_type": "markdown",
   "id": "2f45c5a6",
   "metadata": {},
   "source": [
    "Combina múltiples técnicas de recomendación para mejorar la precisión y superar las limitaciones de los sistemas individuales. Por ejemplo, puede combinar filtrado colaborativo y basado en contenido.\n",
    "\n",
    "Ejemplo: Netflix utiliza un sistema híbrido que combina el filtrado colaborativo y basado en contenido para ofrecer recomendaciones más precisas."
   ]
  },
  {
   "cell_type": "markdown",
   "id": "bd714653",
   "metadata": {},
   "source": [
    "#### Recomendadores Basados en Redes Neuronales"
   ]
  },
  {
   "cell_type": "markdown",
   "id": "a81cdd29",
   "metadata": {},
   "source": [
    "Utilizan redes neuronales profundas para aprender patrones complejos a partir de los datos de usuarios y ítems. Capturan relaciones no lineales y mejoran con grandes cantidades de datos.\n",
    "\n",
    "Ejemplo: Modelos como el autoencoder variacional o redes neuronales convolucionales aplicadas a datos de recomendación. "
   ]
  },
  {
   "cell_type": "markdown",
   "id": "cd64418c",
   "metadata": {},
   "source": [
    "#### Opción elegida"
   ]
  },
  {
   "cell_type": "markdown",
   "id": "851bcb46",
   "metadata": {},
   "source": [
    "La opción elegida para implementar son los **filtros colaborativos** ya que dada las necesidades del sistema y tratandose de un sistema de productos de un comercio se considera que es la que mejor resultados puede proporcionar"
   ]
  },
  {
   "cell_type": "markdown",
   "id": "cf57499e",
   "metadata": {},
   "source": [
    "### Código"
   ]
  },
  {
   "cell_type": "markdown",
   "id": "_hSyMYiceuUN",
   "metadata": {
    "id": "_hSyMYiceuUN"
   },
   "source": [
    "- En la variable userInput es necesario guardar la información de los items que ha puntuado el usuario logueado en el sistema.\n",
    "- En las variables items_df debe estar la información de los items que hay en el sistema y en ratings_df la información de las puntuaciones que otros usuarios (que no sea el logueado) han dado a los distintos items de la aplicación.\n",
    "- Posteriormente se calcula el coeficiente de Pearson entre los distintos usuarios del sistema, es un coeficiente entre -1 y 1 que arroja el grado de similitud entre usuarios.\n",
    "- Una vez se ha calculado el coeficiente de Pearson a los items de los usuarios con más parecido se les calcula y peso y se muestran los items que más probabilidad tienen de gustar al usuario logueado.\n",
    "\n",
    "Este sistema de recomendación se puede emplear como base de distintos sistemas, es decir, por ejemplo si se quisiera tener un sistema de recomendación por países, únicamente sería necesario modificar la información que devuelven los servicios y el sistema funcionaría correctamente."
   ]
  },
  {
   "cell_type": "markdown",
   "id": "c2021506",
   "metadata": {
    "id": "c2021506"
   },
   "source": [
    "#### Importamos las librerías necesarias"
   ]
  },
  {
   "cell_type": "code",
   "execution_count": 2,
   "id": "205a90ba",
   "metadata": {
    "id": "205a90ba"
   },
   "outputs": [],
   "source": [
    "import json\n",
    "import pandas as pd\n",
    "import numpy as np\n",
    "import matplotlib.pyplot as plt\n",
    "from math import sqrt"
   ]
  },
  {
   "cell_type": "markdown",
   "id": "5f04b097",
   "metadata": {
    "id": "5f04b097"
   },
   "source": [
    "#### Hacemos los GET a los servicios"
   ]
  },
  {
   "cell_type": "markdown",
   "id": "4acbc054",
   "metadata": {
    "id": "4acbc054"
   },
   "source": [
    "Para obtener los datos necesarios para el filtro colaborativo, se va a emplear la librería requests para hace un GET a un servicio, después se parseará el JSON que devuelve el servicio y por último con la librería de pandas se generarán los DataFrames necesarios.\n",
    "\n",
    "Para este ejemplo no se van a realizar GET realmente y se van a simular cargando los datos desde ficheros"
   ]
  },
  {
   "cell_type": "code",
   "execution_count": 31,
   "id": "8550e7b7",
   "metadata": {
    "colab": {
     "base_uri": "https://localhost:8080/",
     "height": 111
    },
    "id": "8550e7b7",
    "outputId": "f9960218-6e02-4fec-d161-872eacf3d0d7"
   },
   "outputs": [],
   "source": [
    "# Generamos un dataframe con los items de propio usuario\n",
    "userInput = [\n",
    "    {'item':'6B475DF6-5D69-4756-94AD-FBF3ADF921AB', 'rating':5.0},\n",
    "    {'item':'0443E87F-995B-4196-82AA-9CB98D7B1509', 'rating':4.0},\n",
    "    {'item':'A4F410BB-717C-4F57-B2FF-E249C95EB60F', 'rating':3.0},\n",
    "    {'item':'5D1D782B-9CF3-4670-B8F3-A489A5619270', 'rating':2.0},\n",
    "    {'item':'70B542A7-A72B-47EC-A1D3-735C2D32B8CF', 'rating':2.0},\n",
    "    {'item':'30E80572-F83A-4C8E-9902-F0D46966B5FA', 'rating':1.0},\n",
    "    {'item':'D0E70EDF-AB9D-4863-AB91-D1B006C61FC8', 'rating':3.0},\n",
    "    {'item':'36F2958A-E6B5-432C-A56C-A43F8EE63DF4', 'rating':5.0},\n",
    "    {'item':'0D979A9C-F2DD-428B-85C8-A90034E81764', 'rating':2.0},\n",
    "    {'item':'C3DC290F-E643-4CCB-B40F-D5DBA5D6F014', 'rating':2.0},\n",
    "    {'item':'1939E2D9-274F-4A2C-A508-0ED732ABCE74', 'rating':3.0},\n",
    "    {'item':'92AE8EE9-60DB-4923-8D8D-73F383561AA1', 'rating':2.5},\n",
    "    {'item':'05D01739-67E9-42F0-9E7B-ADE0D6D2AA2C', 'rating':4.3},\n",
    "    {'item':'37F0555A-177E-464D-9565-3FB972891048', 'rating':5.0},\n",
    "    {'item':'352628B3-1A5D-48D5-B865-9264BB911BBC', 'rating':1.5},\n",
    "    {'item':'2F05212F-8941-4AA5-AECF-9060C72F0413', 'rating':1.0},\n",
    "    {'item':'7DF25965-12B7-4B18-A194-4F090D9281E2', 'rating':0.0},\n",
    "    {'item':'3A422B1F-CD61-4A0B-A536-49CDBB4198B0', 'rating':4.5},\n",
    "    {'item':'F9ACAD1B-C0AF-4B09-9211-D79D0A3E4612', 'rating':4.5},\n",
    "    {'item':'C0B9D63C-D24B-4F34-B7A6-815453341300', 'rating':3.5},\n",
    "    {'item':'1EB72CB7-6F26-4011-B6AD-8096DAA5EF2C', 'rating':3.0},\n",
    "    {'item':'E7B23C58-E1ED-4F73-8C85-65AA717D0CD7', 'rating':5.0},\n",
    "    {'item':'F1A5B63D-AC9F-4B62-B5AC-40C7E853AE0C', 'rating':5.0},\n",
    "    {'item':'69296A1F-54E0-490D-AEEC-3B5194DE2D46', 'rating':2.5},\n",
    "    {'item':'D6CB6F6F-3F19-4B72-819A-3D2D44DE9421', 'rating':3.5},\n",
    "    {'item':'8293CAEB-D806-49B9-92CC-209F521DA119', 'rating':1.5}\n",
    "] \n",
    "inputItems = pd.DataFrame(userInput)"
   ]
  },
  {
   "cell_type": "code",
   "execution_count": 76,
   "id": "9dd820f3",
   "metadata": {},
   "outputs": [
    {
     "data": {
      "text/html": [
       "<div>\n",
       "<style scoped>\n",
       "    .dataframe tbody tr th:only-of-type {\n",
       "        vertical-align: middle;\n",
       "    }\n",
       "\n",
       "    .dataframe tbody tr th {\n",
       "        vertical-align: top;\n",
       "    }\n",
       "\n",
       "    .dataframe thead th {\n",
       "        text-align: right;\n",
       "    }\n",
       "</style>\n",
       "<table border=\"1\" class=\"dataframe\">\n",
       "  <thead>\n",
       "    <tr style=\"text-align: right;\">\n",
       "      <th></th>\n",
       "      <th>EntityCode</th>\n",
       "      <th>Nombre</th>\n",
       "    </tr>\n",
       "  </thead>\n",
       "  <tbody>\n",
       "    <tr>\n",
       "      <th>0</th>\n",
       "      <td>A6C395F7-DE27-482C-A814-119AA4C1E5CD</td>\n",
       "      <td>El consumidor digital</td>\n",
       "    </tr>\n",
       "    <tr>\n",
       "      <th>1</th>\n",
       "      <td>19BE7C57-2024-4094-BE6C-BE98B61DCCE0</td>\n",
       "      <td>Uso de redes sociales</td>\n",
       "    </tr>\n",
       "    <tr>\n",
       "      <th>2</th>\n",
       "      <td>6EA97840-4CC0-4B1D-A78C-50DC9360E69D</td>\n",
       "      <td>Streaming</td>\n",
       "    </tr>\n",
       "    <tr>\n",
       "      <th>3</th>\n",
       "      <td>E1E397E8-9D5E-4336-9F2F-77BD6150939C</td>\n",
       "      <td>Estudio de Mercado del Ecommerce</td>\n",
       "    </tr>\n",
       "    <tr>\n",
       "      <th>4</th>\n",
       "      <td>5F9C1578-06A4-4DC8-8FFE-16F703AB8B09</td>\n",
       "      <td>Estudio de Mercado del hábitos por internet</td>\n",
       "    </tr>\n",
       "  </tbody>\n",
       "</table>\n",
       "</div>"
      ],
      "text/plain": [
       "                             EntityCode  \\\n",
       "0  A6C395F7-DE27-482C-A814-119AA4C1E5CD   \n",
       "1  19BE7C57-2024-4094-BE6C-BE98B61DCCE0   \n",
       "2  6EA97840-4CC0-4B1D-A78C-50DC9360E69D   \n",
       "3  E1E397E8-9D5E-4336-9F2F-77BD6150939C   \n",
       "4  5F9C1578-06A4-4DC8-8FFE-16F703AB8B09   \n",
       "\n",
       "                                        Nombre  \n",
       "0                        El consumidor digital  \n",
       "1                        Uso de redes sociales  \n",
       "2                                    Streaming  \n",
       "3             Estudio de Mercado del Ecommerce  \n",
       "4  Estudio de Mercado del hábitos por internet  "
      ]
     },
     "execution_count": 76,
     "metadata": {},
     "output_type": "execute_result"
    }
   ],
   "source": [
    "# Realizamos los servicios y generamos un dataframe con los items y sus ids\n",
    "# Y otro dataframe con los usuarios, los items y las puntuaciones dadas\n",
    "json_products = open('./data/productos.json')\n",
    "products = json.load(json_products)\n",
    "products_df = pd.json_normalize(products['productos'])\n",
    "products_df.head()"
   ]
  },
  {
   "cell_type": "code",
   "execution_count": 75,
   "id": "d6969344",
   "metadata": {},
   "outputs": [
    {
     "data": {
      "text/html": [
       "<div>\n",
       "<style scoped>\n",
       "    .dataframe tbody tr th:only-of-type {\n",
       "        vertical-align: middle;\n",
       "    }\n",
       "\n",
       "    .dataframe tbody tr th {\n",
       "        vertical-align: top;\n",
       "    }\n",
       "\n",
       "    .dataframe thead th {\n",
       "        text-align: right;\n",
       "    }\n",
       "</style>\n",
       "<table border=\"1\" class=\"dataframe\">\n",
       "  <thead>\n",
       "    <tr style=\"text-align: right;\">\n",
       "      <th></th>\n",
       "      <th>IdCliente</th>\n",
       "      <th>IdItem</th>\n",
       "      <th>Rating</th>\n",
       "    </tr>\n",
       "  </thead>\n",
       "  <tbody>\n",
       "    <tr>\n",
       "      <th>0</th>\n",
       "      <td>6CC3C382-DB89-4807-97CA-B0F99F4A2B29</td>\n",
       "      <td>0A80A6CF-F961-4EF7-9A90-2F8C7582A87B</td>\n",
       "      <td>5</td>\n",
       "    </tr>\n",
       "    <tr>\n",
       "      <th>1</th>\n",
       "      <td>417E9FAD-50AC-4A43-BC31-88E52D779DAF</td>\n",
       "      <td>9451657A-6166-42DF-BAAE-E03A2C9F609B</td>\n",
       "      <td>5</td>\n",
       "    </tr>\n",
       "    <tr>\n",
       "      <th>2</th>\n",
       "      <td>10E53D0C-B123-475F-83EE-C5EA1B0A15C6</td>\n",
       "      <td>2FC651C9-C7FF-4591-95CF-81683562FD91</td>\n",
       "      <td>5</td>\n",
       "    </tr>\n",
       "    <tr>\n",
       "      <th>3</th>\n",
       "      <td>7043883F-C06E-4F9C-AE89-25B1ED565636</td>\n",
       "      <td>C2482313-7A27-4A53-8AB8-43DFE183E997</td>\n",
       "      <td>2</td>\n",
       "    </tr>\n",
       "    <tr>\n",
       "      <th>4</th>\n",
       "      <td>8B871F41-D7B0-48DE-B14B-033DFB71A404</td>\n",
       "      <td>AF750425-6C23-4285-9617-9FBD33E731A8</td>\n",
       "      <td>3</td>\n",
       "    </tr>\n",
       "  </tbody>\n",
       "</table>\n",
       "</div>"
      ],
      "text/plain": [
       "                              IdCliente                                IdItem  \\\n",
       "0  6CC3C382-DB89-4807-97CA-B0F99F4A2B29  0A80A6CF-F961-4EF7-9A90-2F8C7582A87B   \n",
       "1  417E9FAD-50AC-4A43-BC31-88E52D779DAF  9451657A-6166-42DF-BAAE-E03A2C9F609B   \n",
       "2  10E53D0C-B123-475F-83EE-C5EA1B0A15C6  2FC651C9-C7FF-4591-95CF-81683562FD91   \n",
       "3  7043883F-C06E-4F9C-AE89-25B1ED565636  C2482313-7A27-4A53-8AB8-43DFE183E997   \n",
       "4  8B871F41-D7B0-48DE-B14B-033DFB71A404  AF750425-6C23-4285-9617-9FBD33E731A8   \n",
       "\n",
       "   Rating  \n",
       "0       5  \n",
       "1       5  \n",
       "2       5  \n",
       "3       2  \n",
       "4       3  "
      ]
     },
     "execution_count": 75,
     "metadata": {},
     "output_type": "execute_result"
    }
   ],
   "source": [
    "# Obtenemos las puntuaciones dadas por los usuarios de todos los productos que tenemos en el comercio\n",
    "json_rating = open('./data/pedidos.json')\n",
    "rating = json.load(json_rating)\n",
    "ratings_df = pd.json_normalize(rating['pedidos'])\n",
    "ratings_df.head()"
   ]
  },
  {
   "cell_type": "markdown",
   "id": "03eddef9",
   "metadata": {
    "id": "03eddef9"
   },
   "source": [
    "A continuación, se combina el dataframe de todos los productos con los productos que el usuario ha dado una puntuación y se muestran para tenerlos identificados"
   ]
  },
  {
   "cell_type": "code",
   "execution_count": 74,
   "id": "7a6f2798",
   "metadata": {
    "colab": {
     "base_uri": "https://localhost:8080/",
     "height": 152
    },
    "id": "7a6f2798",
    "outputId": "7a07150c-e54e-49e0-ee67-dec363a24fdc"
   },
   "outputs": [
    {
     "data": {
      "text/html": [
       "<div>\n",
       "<style scoped>\n",
       "    .dataframe tbody tr th:only-of-type {\n",
       "        vertical-align: middle;\n",
       "    }\n",
       "\n",
       "    .dataframe tbody tr th {\n",
       "        vertical-align: top;\n",
       "    }\n",
       "\n",
       "    .dataframe thead th {\n",
       "        text-align: right;\n",
       "    }\n",
       "</style>\n",
       "<table border=\"1\" class=\"dataframe\">\n",
       "  <thead>\n",
       "    <tr style=\"text-align: right;\">\n",
       "      <th></th>\n",
       "      <th>EntityCode_x</th>\n",
       "      <th>Nombre_x</th>\n",
       "      <th>EntityCode_y</th>\n",
       "      <th>Nombre_y</th>\n",
       "      <th>item</th>\n",
       "      <th>rating</th>\n",
       "    </tr>\n",
       "  </thead>\n",
       "  <tbody>\n",
       "    <tr>\n",
       "      <th>0</th>\n",
       "      <td>92AE8EE9-60DB-4923-8D8D-73F383561AA1</td>\n",
       "      <td>Fororo SIN MARCA PRESENTACION NO REPORTADA</td>\n",
       "      <td>92AE8EE9-60DB-4923-8D8D-73F383561AA1</td>\n",
       "      <td>Fororo SIN MARCA PRESENTACION NO REPORTADA</td>\n",
       "      <td>92AE8EE9-60DB-4923-8D8D-73F383561AA1</td>\n",
       "      <td>2.5</td>\n",
       "    </tr>\n",
       "    <tr>\n",
       "      <th>1</th>\n",
       "      <td>05D01739-67E9-42F0-9E7B-ADE0D6D2AA2C</td>\n",
       "      <td>Fororo OTRA Bolsa 900 grs</td>\n",
       "      <td>05D01739-67E9-42F0-9E7B-ADE0D6D2AA2C</td>\n",
       "      <td>Fororo OTRA Bolsa 900 grs</td>\n",
       "      <td>05D01739-67E9-42F0-9E7B-ADE0D6D2AA2C</td>\n",
       "      <td>4.3</td>\n",
       "    </tr>\n",
       "    <tr>\n",
       "      <th>2</th>\n",
       "      <td>37F0555A-177E-464D-9565-3FB972891048</td>\n",
       "      <td>Fororo OTRA SIN PRESENTACION</td>\n",
       "      <td>37F0555A-177E-464D-9565-3FB972891048</td>\n",
       "      <td>Fororo OTRA SIN PRESENTACION</td>\n",
       "      <td>37F0555A-177E-464D-9565-3FB972891048</td>\n",
       "      <td>5.0</td>\n",
       "    </tr>\n",
       "    <tr>\n",
       "      <th>3</th>\n",
       "      <td>36F2958A-E6B5-432C-A56C-A43F8EE63DF4</td>\n",
       "      <td>Refresco Colas Negras BIG COLA OTRA PRESENTACI...</td>\n",
       "      <td>36F2958A-E6B5-432C-A56C-A43F8EE63DF4</td>\n",
       "      <td>Refresco Colas Negras BIG COLA OTRA PRESENTACI...</td>\n",
       "      <td>36F2958A-E6B5-432C-A56C-A43F8EE63DF4</td>\n",
       "      <td>5.0</td>\n",
       "    </tr>\n",
       "    <tr>\n",
       "      <th>4</th>\n",
       "      <td>1EB72CB7-6F26-4011-B6AD-8096DAA5EF2C</td>\n",
       "      <td>REFRESCOS DE SABORES FRESCOLITA 350 ml Botella...</td>\n",
       "      <td>1EB72CB7-6F26-4011-B6AD-8096DAA5EF2C</td>\n",
       "      <td>REFRESCOS DE SABORES FRESCOLITA 350 ml Botella...</td>\n",
       "      <td>1EB72CB7-6F26-4011-B6AD-8096DAA5EF2C</td>\n",
       "      <td>3.0</td>\n",
       "    </tr>\n",
       "  </tbody>\n",
       "</table>\n",
       "</div>"
      ],
      "text/plain": [
       "                           EntityCode_x  \\\n",
       "0  92AE8EE9-60DB-4923-8D8D-73F383561AA1   \n",
       "1  05D01739-67E9-42F0-9E7B-ADE0D6D2AA2C   \n",
       "2  37F0555A-177E-464D-9565-3FB972891048   \n",
       "3  36F2958A-E6B5-432C-A56C-A43F8EE63DF4   \n",
       "4  1EB72CB7-6F26-4011-B6AD-8096DAA5EF2C   \n",
       "\n",
       "                                            Nombre_x  \\\n",
       "0         Fororo SIN MARCA PRESENTACION NO REPORTADA   \n",
       "1                          Fororo OTRA Bolsa 900 grs   \n",
       "2                       Fororo OTRA SIN PRESENTACION   \n",
       "3  Refresco Colas Negras BIG COLA OTRA PRESENTACI...   \n",
       "4  REFRESCOS DE SABORES FRESCOLITA 350 ml Botella...   \n",
       "\n",
       "                           EntityCode_y  \\\n",
       "0  92AE8EE9-60DB-4923-8D8D-73F383561AA1   \n",
       "1  05D01739-67E9-42F0-9E7B-ADE0D6D2AA2C   \n",
       "2  37F0555A-177E-464D-9565-3FB972891048   \n",
       "3  36F2958A-E6B5-432C-A56C-A43F8EE63DF4   \n",
       "4  1EB72CB7-6F26-4011-B6AD-8096DAA5EF2C   \n",
       "\n",
       "                                            Nombre_y  \\\n",
       "0         Fororo SIN MARCA PRESENTACION NO REPORTADA   \n",
       "1                          Fororo OTRA Bolsa 900 grs   \n",
       "2                       Fororo OTRA SIN PRESENTACION   \n",
       "3  Refresco Colas Negras BIG COLA OTRA PRESENTACI...   \n",
       "4  REFRESCOS DE SABORES FRESCOLITA 350 ml Botella...   \n",
       "\n",
       "                                   item  rating  \n",
       "0  92AE8EE9-60DB-4923-8D8D-73F383561AA1     2.5  \n",
       "1  05D01739-67E9-42F0-9E7B-ADE0D6D2AA2C     4.3  \n",
       "2  37F0555A-177E-464D-9565-3FB972891048     5.0  \n",
       "3  36F2958A-E6B5-432C-A56C-A43F8EE63DF4     5.0  \n",
       "4  1EB72CB7-6F26-4011-B6AD-8096DAA5EF2C     3.0  "
      ]
     },
     "execution_count": 74,
     "metadata": {},
     "output_type": "execute_result"
    }
   ],
   "source": [
    "inputId = products_df[products_df['EntityCode'].isin(inputItems['item'].tolist())]\n",
    "inputItems = pd.merge(inputId, inputItems, how='inner', left_on='EntityCode', right_on='item')\n",
    "inputItems.head()"
   ]
  },
  {
   "cell_type": "markdown",
   "id": "493e67dd",
   "metadata": {
    "id": "493e67dd"
   },
   "source": [
    "Obtenemos las puntuaciones que otros usuarios han dado a los mismos objetos que el usuario de entrada"
   ]
  },
  {
   "cell_type": "code",
   "execution_count": 73,
   "id": "987a6904",
   "metadata": {
    "colab": {
     "base_uri": "https://localhost:8080/",
     "height": 297
    },
    "id": "987a6904",
    "outputId": "437ee8d5-facd-4c14-fdbe-bb390a27dd21"
   },
   "outputs": [
    {
     "data": {
      "text/html": [
       "<div>\n",
       "<style scoped>\n",
       "    .dataframe tbody tr th:only-of-type {\n",
       "        vertical-align: middle;\n",
       "    }\n",
       "\n",
       "    .dataframe tbody tr th {\n",
       "        vertical-align: top;\n",
       "    }\n",
       "\n",
       "    .dataframe thead th {\n",
       "        text-align: right;\n",
       "    }\n",
       "</style>\n",
       "<table border=\"1\" class=\"dataframe\">\n",
       "  <thead>\n",
       "    <tr style=\"text-align: right;\">\n",
       "      <th></th>\n",
       "      <th>IdCliente</th>\n",
       "      <th>IdItem</th>\n",
       "      <th>Rating</th>\n",
       "    </tr>\n",
       "  </thead>\n",
       "  <tbody>\n",
       "    <tr>\n",
       "      <th>118</th>\n",
       "      <td>467390C6-A659-486F-8490-5A3179729A8B</td>\n",
       "      <td>C3DC290F-E643-4CCB-B40F-D5DBA5D6F014</td>\n",
       "      <td>3</td>\n",
       "    </tr>\n",
       "    <tr>\n",
       "      <th>154</th>\n",
       "      <td>67264CF6-D4B5-4D8E-80F3-C948D46A059C</td>\n",
       "      <td>1939E2D9-274F-4A2C-A508-0ED732ABCE74</td>\n",
       "      <td>3</td>\n",
       "    </tr>\n",
       "    <tr>\n",
       "      <th>345</th>\n",
       "      <td>DF26BF82-AD3B-45C9-9E4E-796D4751F92C</td>\n",
       "      <td>6B475DF6-5D69-4756-94AD-FBF3ADF921AB</td>\n",
       "      <td>4</td>\n",
       "    </tr>\n",
       "    <tr>\n",
       "      <th>364</th>\n",
       "      <td>467390C6-A659-486F-8490-5A3179729A8B</td>\n",
       "      <td>1939E2D9-274F-4A2C-A508-0ED732ABCE74</td>\n",
       "      <td>3</td>\n",
       "    </tr>\n",
       "    <tr>\n",
       "      <th>670</th>\n",
       "      <td>EE90A912-C20E-4663-933D-00F590AFDE57</td>\n",
       "      <td>6B475DF6-5D69-4756-94AD-FBF3ADF921AB</td>\n",
       "      <td>2</td>\n",
       "    </tr>\n",
       "  </tbody>\n",
       "</table>\n",
       "</div>"
      ],
      "text/plain": [
       "                                IdCliente  \\\n",
       "118  467390C6-A659-486F-8490-5A3179729A8B   \n",
       "154  67264CF6-D4B5-4D8E-80F3-C948D46A059C   \n",
       "345  DF26BF82-AD3B-45C9-9E4E-796D4751F92C   \n",
       "364  467390C6-A659-486F-8490-5A3179729A8B   \n",
       "670  EE90A912-C20E-4663-933D-00F590AFDE57   \n",
       "\n",
       "                                   IdItem  Rating  \n",
       "118  C3DC290F-E643-4CCB-B40F-D5DBA5D6F014       3  \n",
       "154  1939E2D9-274F-4A2C-A508-0ED732ABCE74       3  \n",
       "345  6B475DF6-5D69-4756-94AD-FBF3ADF921AB       4  \n",
       "364  1939E2D9-274F-4A2C-A508-0ED732ABCE74       3  \n",
       "670  6B475DF6-5D69-4756-94AD-FBF3ADF921AB       2  "
      ]
     },
     "execution_count": 73,
     "metadata": {},
     "output_type": "execute_result"
    }
   ],
   "source": [
    "userSubset = ratings_df[ratings_df['IdItem'].isin(inputItems['item'].tolist())]\n",
    "userSubset.head()"
   ]
  },
  {
   "cell_type": "code",
   "execution_count": 79,
   "id": "d997a3eb",
   "metadata": {
    "colab": {
     "base_uri": "https://localhost:8080/"
    },
    "id": "d997a3eb",
    "outputId": "f14693bb-d0d6-452a-f4d5-46857b2f9502"
   },
   "outputs": [],
   "source": [
    "# Agrupamos los productos puntuados por cada uno de los clientes\n",
    "userSubsetGroup = userSubset.groupby(['IdCliente'])\n",
    "userSubsetGroup = sorted(userSubsetGroup, key=lambda x: len(x[1]), reverse=True)"
   ]
  },
  {
   "cell_type": "markdown",
   "id": "44e94cad",
   "metadata": {
    "id": "44e94cad"
   },
   "source": [
    "#### Algoritmo"
   ]
  },
  {
   "cell_type": "markdown",
   "id": "40f298a3",
   "metadata": {
    "id": "40f298a3"
   },
   "source": [
    "Este algoritmo está basado en calcular la correlación de Pearson. Esta correlación Se utiliza para medir la fuerza de una asociación lineal entre dos variables y poder identificar los usuarios que tienen gustos similares entre sí. Los valores obtenidos por este algoritmo varían entre -1 y 1, siendo 1 la correlación positiva perfecta entre las entidades y -1 forma una correlación negativa perfecta."
   ]
  },
  {
   "cell_type": "code",
   "execution_count": 80,
   "id": "f949d0fc",
   "metadata": {
    "id": "f949d0fc"
   },
   "outputs": [],
   "source": [
    "pearsonCorrelationDict = {}\n",
    "for name, group in userSubsetGroup:\n",
    "    group = group.sort_values(by='IdItem')\n",
    "    inputItems = inputItems.sort_values(by='item')\n",
    "    nRatings = len(group)\n",
    "    temp_df = inputItems[inputItems['item'].isin(group['IdItem'].tolist())]\n",
    "    tempRatingList = temp_df['rating'].tolist()\n",
    "    tempGroupList = group['Rating'].tolist()\n",
    "    #Calculemos la Correlación Pearson entre dos usuarios, x e y\n",
    "    Sxx = sum([i**2 for i in tempRatingList]) - pow(sum(tempRatingList),2)/float(nRatings)\n",
    "    Syy = sum([i**2 for i in tempGroupList]) - pow(sum(tempGroupList),2)/float(nRatings)\n",
    "    Sxy = sum( i*j for i, j in zip(tempRatingList, tempGroupList)) - sum(tempRatingList)*sum(tempGroupList)/float(nRatings)\n",
    "    #Si el denominador es diferente a cero, entonces dividir, sino, la correlación es 0.\n",
    "    if Sxx != 0 and Syy != 0:\n",
    "        pearsonCorrelationDict[name[0]] = Sxy/sqrt(Sxx*Syy)\n",
    "    else:\n",
    "        pearsonCorrelationDict[name[0]] = 0"
   ]
  },
  {
   "cell_type": "markdown",
   "id": "2f1d8907",
   "metadata": {
    "id": "2f1d8907"
   },
   "source": [
    "Obtenemos un diccionario con las correlaciones obtenidas hacia cada usuario"
   ]
  },
  {
   "cell_type": "code",
   "execution_count": 81,
   "id": "d3ec584d",
   "metadata": {
    "colab": {
     "base_uri": "https://localhost:8080/"
    },
    "id": "d3ec584d",
    "outputId": "7a95eb78-4ba8-485f-a111-7642816118da"
   },
   "outputs": [
    {
     "data": {
      "text/plain": [
       "dict_items([('467390C6-A659-486F-8490-5A3179729A8B', -0.8660254037844387), ('DF26BF82-AD3B-45C9-9E4E-796D4751F92C', 0.7745966692414834), ('F22E8503-7449-44E3-8B96-DCACE7652C3E', 0.6546536707079771), ('CBA6A484-1DBE-4307-8E50-2BCA62490889', 1.0), ('EE90A912-C20E-4663-933D-00F590AFDE57', -1.0), ('05F83343-3DBE-4BDE-9650-3384FCF05751', 0), ('0902A7C1-D13A-4481-BBE6-10B23A430AC3', 0), ('185A7033-F3AD-477A-A10C-20C77CB53EFE', 0), ('230EAA8B-7C75-4A9E-9814-2B2DA3072EDD', 0), ('4769801D-014C-45F7-9BB1-A223E00BFFD8', 0), ('4F79D2FB-CD62-4407-B4F0-3CF5F6EAB7F1', 0), ('67264CF6-D4B5-4D8E-80F3-C948D46A059C', 0), ('70FE3215-50BA-4273-B40E-F07488D6A625', 0), ('82E5089B-EF63-4195-9174-7BFD38CFE69F', 0), ('9E8BF402-549F-4B2E-BEAC-CDB047A43CCB', 0), ('A03E817D-B57B-4965-B5EB-77099CC662BB', 0), ('ACF95AEF-669F-4ED0-9A38-22BF3D8A03A8', 0), ('B1C84743-B903-4FFB-B3B2-1EEBFD5B3026', 0), ('DC21A602-F777-433B-9CDA-2D72C9D0902F', 0), ('E071C0FF-36EE-4899-AF05-4D39CE9B5F5E', 0), ('E21BAB8A-288E-4753-AEC6-8AC711E9F1D3', 0), ('E6425982-FA51-4DAE-AA09-FBCA3095FA9D', 0), ('E6433929-4CA6-44BD-9356-F6B95B5DDBB6', 0), ('E75FA640-A11B-4246-9E5D-6CF51A529398', 0), ('F7869060-47DF-42EA-8311-3AC4D9898406', 0)])"
      ]
     },
     "execution_count": 81,
     "metadata": {},
     "output_type": "execute_result"
    }
   ],
   "source": [
    "pearsonCorrelationDict.items()"
   ]
  },
  {
   "cell_type": "markdown",
   "id": "23d98c9b",
   "metadata": {
    "id": "23d98c9b"
   },
   "source": [
    "#### Resultados del algoritmo"
   ]
  },
  {
   "cell_type": "markdown",
   "id": "724c4d2f",
   "metadata": {
    "id": "724c4d2f"
   },
   "source": [
    "Generamos distintos dataframes con los valores obtenidos del algoritmos"
   ]
  },
  {
   "cell_type": "code",
   "execution_count": 82,
   "id": "ac7ffc3b",
   "metadata": {
    "colab": {
     "base_uri": "https://localhost:8080/",
     "height": 173
    },
    "id": "ac7ffc3b",
    "outputId": "3cd4518f-d47a-4e50-89c4-20731182362e"
   },
   "outputs": [
    {
     "data": {
      "text/html": [
       "<div>\n",
       "<style scoped>\n",
       "    .dataframe tbody tr th:only-of-type {\n",
       "        vertical-align: middle;\n",
       "    }\n",
       "\n",
       "    .dataframe tbody tr th {\n",
       "        vertical-align: top;\n",
       "    }\n",
       "\n",
       "    .dataframe thead th {\n",
       "        text-align: right;\n",
       "    }\n",
       "</style>\n",
       "<table border=\"1\" class=\"dataframe\">\n",
       "  <thead>\n",
       "    <tr style=\"text-align: right;\">\n",
       "      <th></th>\n",
       "      <th>similarityIndex</th>\n",
       "      <th>userId</th>\n",
       "    </tr>\n",
       "  </thead>\n",
       "  <tbody>\n",
       "    <tr>\n",
       "      <th>0</th>\n",
       "      <td>-0.866025</td>\n",
       "      <td>467390C6-A659-486F-8490-5A3179729A8B</td>\n",
       "    </tr>\n",
       "    <tr>\n",
       "      <th>1</th>\n",
       "      <td>0.774597</td>\n",
       "      <td>DF26BF82-AD3B-45C9-9E4E-796D4751F92C</td>\n",
       "    </tr>\n",
       "    <tr>\n",
       "      <th>2</th>\n",
       "      <td>0.654654</td>\n",
       "      <td>F22E8503-7449-44E3-8B96-DCACE7652C3E</td>\n",
       "    </tr>\n",
       "    <tr>\n",
       "      <th>3</th>\n",
       "      <td>1.000000</td>\n",
       "      <td>CBA6A484-1DBE-4307-8E50-2BCA62490889</td>\n",
       "    </tr>\n",
       "    <tr>\n",
       "      <th>4</th>\n",
       "      <td>-1.000000</td>\n",
       "      <td>EE90A912-C20E-4663-933D-00F590AFDE57</td>\n",
       "    </tr>\n",
       "  </tbody>\n",
       "</table>\n",
       "</div>"
      ],
      "text/plain": [
       "   similarityIndex                                userId\n",
       "0        -0.866025  467390C6-A659-486F-8490-5A3179729A8B\n",
       "1         0.774597  DF26BF82-AD3B-45C9-9E4E-796D4751F92C\n",
       "2         0.654654  F22E8503-7449-44E3-8B96-DCACE7652C3E\n",
       "3         1.000000  CBA6A484-1DBE-4307-8E50-2BCA62490889\n",
       "4        -1.000000  EE90A912-C20E-4663-933D-00F590AFDE57"
      ]
     },
     "execution_count": 82,
     "metadata": {},
     "output_type": "execute_result"
    }
   ],
   "source": [
    "#Generamos un dataframe con las correlaciones de Pearson calculadas\n",
    "pearsonDF = pd.DataFrame.from_dict(pearsonCorrelationDict, orient='index')\n",
    "pearsonDF.columns = ['similarityIndex']\n",
    "pearsonDF['userId'] = pearsonDF.index\n",
    "pearsonDF.index = range(len(pearsonDF))\n",
    "pearsonDF.head()"
   ]
  },
  {
   "cell_type": "code",
   "execution_count": 83,
   "id": "62823ee8",
   "metadata": {
    "colab": {
     "base_uri": "https://localhost:8080/",
     "height": 173
    },
    "id": "62823ee8",
    "outputId": "29fe3614-c7da-4b02-9f17-334a388e16d9"
   },
   "outputs": [
    {
     "data": {
      "text/html": [
       "<div>\n",
       "<style scoped>\n",
       "    .dataframe tbody tr th:only-of-type {\n",
       "        vertical-align: middle;\n",
       "    }\n",
       "\n",
       "    .dataframe tbody tr th {\n",
       "        vertical-align: top;\n",
       "    }\n",
       "\n",
       "    .dataframe thead th {\n",
       "        text-align: right;\n",
       "    }\n",
       "</style>\n",
       "<table border=\"1\" class=\"dataframe\">\n",
       "  <thead>\n",
       "    <tr style=\"text-align: right;\">\n",
       "      <th></th>\n",
       "      <th>similarityIndex</th>\n",
       "      <th>userId</th>\n",
       "    </tr>\n",
       "  </thead>\n",
       "  <tbody>\n",
       "    <tr>\n",
       "      <th>3</th>\n",
       "      <td>1.000000</td>\n",
       "      <td>CBA6A484-1DBE-4307-8E50-2BCA62490889</td>\n",
       "    </tr>\n",
       "    <tr>\n",
       "      <th>1</th>\n",
       "      <td>0.774597</td>\n",
       "      <td>DF26BF82-AD3B-45C9-9E4E-796D4751F92C</td>\n",
       "    </tr>\n",
       "    <tr>\n",
       "      <th>2</th>\n",
       "      <td>0.654654</td>\n",
       "      <td>F22E8503-7449-44E3-8B96-DCACE7652C3E</td>\n",
       "    </tr>\n",
       "    <tr>\n",
       "      <th>12</th>\n",
       "      <td>0.000000</td>\n",
       "      <td>70FE3215-50BA-4273-B40E-F07488D6A625</td>\n",
       "    </tr>\n",
       "    <tr>\n",
       "      <th>14</th>\n",
       "      <td>0.000000</td>\n",
       "      <td>9E8BF402-549F-4B2E-BEAC-CDB047A43CCB</td>\n",
       "    </tr>\n",
       "  </tbody>\n",
       "</table>\n",
       "</div>"
      ],
      "text/plain": [
       "    similarityIndex                                userId\n",
       "3          1.000000  CBA6A484-1DBE-4307-8E50-2BCA62490889\n",
       "1          0.774597  DF26BF82-AD3B-45C9-9E4E-796D4751F92C\n",
       "2          0.654654  F22E8503-7449-44E3-8B96-DCACE7652C3E\n",
       "12         0.000000  70FE3215-50BA-4273-B40E-F07488D6A625\n",
       "14         0.000000  9E8BF402-549F-4B2E-BEAC-CDB047A43CCB"
      ]
     },
     "execution_count": 83,
     "metadata": {},
     "output_type": "execute_result"
    }
   ],
   "source": [
    "topUsers=pearsonDF.sort_values(by='similarityIndex', ascending=False)[0:50]\n",
    "topUsers.head()"
   ]
  },
  {
   "cell_type": "code",
   "execution_count": 84,
   "id": "4bbceff9",
   "metadata": {
    "colab": {
     "base_uri": "https://localhost:8080/",
     "height": 204
    },
    "id": "4bbceff9",
    "outputId": "7eb48670-55db-42e9-927f-a4d9dba70438"
   },
   "outputs": [
    {
     "data": {
      "text/html": [
       "<div>\n",
       "<style scoped>\n",
       "    .dataframe tbody tr th:only-of-type {\n",
       "        vertical-align: middle;\n",
       "    }\n",
       "\n",
       "    .dataframe tbody tr th {\n",
       "        vertical-align: top;\n",
       "    }\n",
       "\n",
       "    .dataframe thead th {\n",
       "        text-align: right;\n",
       "    }\n",
       "</style>\n",
       "<table border=\"1\" class=\"dataframe\">\n",
       "  <thead>\n",
       "    <tr style=\"text-align: right;\">\n",
       "      <th></th>\n",
       "      <th>similarityIndex</th>\n",
       "      <th>userId</th>\n",
       "      <th>IdCliente</th>\n",
       "      <th>IdItem</th>\n",
       "      <th>Rating</th>\n",
       "    </tr>\n",
       "  </thead>\n",
       "  <tbody>\n",
       "    <tr>\n",
       "      <th>0</th>\n",
       "      <td>1.0</td>\n",
       "      <td>CBA6A484-1DBE-4307-8E50-2BCA62490889</td>\n",
       "      <td>CBA6A484-1DBE-4307-8E50-2BCA62490889</td>\n",
       "      <td>46681402-B3EA-4E36-8DB2-9700E6EA6D7B</td>\n",
       "      <td>3</td>\n",
       "    </tr>\n",
       "    <tr>\n",
       "      <th>1</th>\n",
       "      <td>1.0</td>\n",
       "      <td>CBA6A484-1DBE-4307-8E50-2BCA62490889</td>\n",
       "      <td>CBA6A484-1DBE-4307-8E50-2BCA62490889</td>\n",
       "      <td>060BD7AF-7734-4E89-B314-5354B86CDD78</td>\n",
       "      <td>5</td>\n",
       "    </tr>\n",
       "    <tr>\n",
       "      <th>2</th>\n",
       "      <td>1.0</td>\n",
       "      <td>CBA6A484-1DBE-4307-8E50-2BCA62490889</td>\n",
       "      <td>CBA6A484-1DBE-4307-8E50-2BCA62490889</td>\n",
       "      <td>CAC40830-6EAC-4CBB-A4D4-60DA2C3126ED</td>\n",
       "      <td>3</td>\n",
       "    </tr>\n",
       "    <tr>\n",
       "      <th>3</th>\n",
       "      <td>1.0</td>\n",
       "      <td>CBA6A484-1DBE-4307-8E50-2BCA62490889</td>\n",
       "      <td>CBA6A484-1DBE-4307-8E50-2BCA62490889</td>\n",
       "      <td>7284F571-9E6F-4F52-9006-A95F9DF5035E</td>\n",
       "      <td>5</td>\n",
       "    </tr>\n",
       "    <tr>\n",
       "      <th>4</th>\n",
       "      <td>1.0</td>\n",
       "      <td>CBA6A484-1DBE-4307-8E50-2BCA62490889</td>\n",
       "      <td>CBA6A484-1DBE-4307-8E50-2BCA62490889</td>\n",
       "      <td>004C060F-EDBC-4580-8DA5-541C71C80089</td>\n",
       "      <td>5</td>\n",
       "    </tr>\n",
       "  </tbody>\n",
       "</table>\n",
       "</div>"
      ],
      "text/plain": [
       "   similarityIndex                                userId  \\\n",
       "0              1.0  CBA6A484-1DBE-4307-8E50-2BCA62490889   \n",
       "1              1.0  CBA6A484-1DBE-4307-8E50-2BCA62490889   \n",
       "2              1.0  CBA6A484-1DBE-4307-8E50-2BCA62490889   \n",
       "3              1.0  CBA6A484-1DBE-4307-8E50-2BCA62490889   \n",
       "4              1.0  CBA6A484-1DBE-4307-8E50-2BCA62490889   \n",
       "\n",
       "                              IdCliente                                IdItem  \\\n",
       "0  CBA6A484-1DBE-4307-8E50-2BCA62490889  46681402-B3EA-4E36-8DB2-9700E6EA6D7B   \n",
       "1  CBA6A484-1DBE-4307-8E50-2BCA62490889  060BD7AF-7734-4E89-B314-5354B86CDD78   \n",
       "2  CBA6A484-1DBE-4307-8E50-2BCA62490889  CAC40830-6EAC-4CBB-A4D4-60DA2C3126ED   \n",
       "3  CBA6A484-1DBE-4307-8E50-2BCA62490889  7284F571-9E6F-4F52-9006-A95F9DF5035E   \n",
       "4  CBA6A484-1DBE-4307-8E50-2BCA62490889  004C060F-EDBC-4580-8DA5-541C71C80089   \n",
       "\n",
       "   Rating  \n",
       "0       3  \n",
       "1       5  \n",
       "2       3  \n",
       "3       5  \n",
       "4       5  "
      ]
     },
     "execution_count": 84,
     "metadata": {},
     "output_type": "execute_result"
    }
   ],
   "source": [
    "topUsersRating=topUsers.merge(ratings_df, left_on='userId', right_on='IdCliente', how='inner')\n",
    "topUsersRating.head()"
   ]
  },
  {
   "cell_type": "code",
   "execution_count": 85,
   "id": "6939bf66",
   "metadata": {
    "colab": {
     "base_uri": "https://localhost:8080/",
     "height": 204
    },
    "id": "6939bf66",
    "outputId": "ec53a020-dec6-49f2-db1e-127488508fbc"
   },
   "outputs": [
    {
     "data": {
      "text/html": [
       "<div>\n",
       "<style scoped>\n",
       "    .dataframe tbody tr th:only-of-type {\n",
       "        vertical-align: middle;\n",
       "    }\n",
       "\n",
       "    .dataframe tbody tr th {\n",
       "        vertical-align: top;\n",
       "    }\n",
       "\n",
       "    .dataframe thead th {\n",
       "        text-align: right;\n",
       "    }\n",
       "</style>\n",
       "<table border=\"1\" class=\"dataframe\">\n",
       "  <thead>\n",
       "    <tr style=\"text-align: right;\">\n",
       "      <th></th>\n",
       "      <th>similarityIndex</th>\n",
       "      <th>userId</th>\n",
       "      <th>IdCliente</th>\n",
       "      <th>IdItem</th>\n",
       "      <th>Rating</th>\n",
       "      <th>weightedRating</th>\n",
       "    </tr>\n",
       "  </thead>\n",
       "  <tbody>\n",
       "    <tr>\n",
       "      <th>0</th>\n",
       "      <td>1.0</td>\n",
       "      <td>CBA6A484-1DBE-4307-8E50-2BCA62490889</td>\n",
       "      <td>CBA6A484-1DBE-4307-8E50-2BCA62490889</td>\n",
       "      <td>46681402-B3EA-4E36-8DB2-9700E6EA6D7B</td>\n",
       "      <td>3</td>\n",
       "      <td>3.0</td>\n",
       "    </tr>\n",
       "    <tr>\n",
       "      <th>1</th>\n",
       "      <td>1.0</td>\n",
       "      <td>CBA6A484-1DBE-4307-8E50-2BCA62490889</td>\n",
       "      <td>CBA6A484-1DBE-4307-8E50-2BCA62490889</td>\n",
       "      <td>060BD7AF-7734-4E89-B314-5354B86CDD78</td>\n",
       "      <td>5</td>\n",
       "      <td>5.0</td>\n",
       "    </tr>\n",
       "    <tr>\n",
       "      <th>2</th>\n",
       "      <td>1.0</td>\n",
       "      <td>CBA6A484-1DBE-4307-8E50-2BCA62490889</td>\n",
       "      <td>CBA6A484-1DBE-4307-8E50-2BCA62490889</td>\n",
       "      <td>CAC40830-6EAC-4CBB-A4D4-60DA2C3126ED</td>\n",
       "      <td>3</td>\n",
       "      <td>3.0</td>\n",
       "    </tr>\n",
       "    <tr>\n",
       "      <th>3</th>\n",
       "      <td>1.0</td>\n",
       "      <td>CBA6A484-1DBE-4307-8E50-2BCA62490889</td>\n",
       "      <td>CBA6A484-1DBE-4307-8E50-2BCA62490889</td>\n",
       "      <td>7284F571-9E6F-4F52-9006-A95F9DF5035E</td>\n",
       "      <td>5</td>\n",
       "      <td>5.0</td>\n",
       "    </tr>\n",
       "    <tr>\n",
       "      <th>4</th>\n",
       "      <td>1.0</td>\n",
       "      <td>CBA6A484-1DBE-4307-8E50-2BCA62490889</td>\n",
       "      <td>CBA6A484-1DBE-4307-8E50-2BCA62490889</td>\n",
       "      <td>004C060F-EDBC-4580-8DA5-541C71C80089</td>\n",
       "      <td>5</td>\n",
       "      <td>5.0</td>\n",
       "    </tr>\n",
       "  </tbody>\n",
       "</table>\n",
       "</div>"
      ],
      "text/plain": [
       "   similarityIndex                                userId  \\\n",
       "0              1.0  CBA6A484-1DBE-4307-8E50-2BCA62490889   \n",
       "1              1.0  CBA6A484-1DBE-4307-8E50-2BCA62490889   \n",
       "2              1.0  CBA6A484-1DBE-4307-8E50-2BCA62490889   \n",
       "3              1.0  CBA6A484-1DBE-4307-8E50-2BCA62490889   \n",
       "4              1.0  CBA6A484-1DBE-4307-8E50-2BCA62490889   \n",
       "\n",
       "                              IdCliente                                IdItem  \\\n",
       "0  CBA6A484-1DBE-4307-8E50-2BCA62490889  46681402-B3EA-4E36-8DB2-9700E6EA6D7B   \n",
       "1  CBA6A484-1DBE-4307-8E50-2BCA62490889  060BD7AF-7734-4E89-B314-5354B86CDD78   \n",
       "2  CBA6A484-1DBE-4307-8E50-2BCA62490889  CAC40830-6EAC-4CBB-A4D4-60DA2C3126ED   \n",
       "3  CBA6A484-1DBE-4307-8E50-2BCA62490889  7284F571-9E6F-4F52-9006-A95F9DF5035E   \n",
       "4  CBA6A484-1DBE-4307-8E50-2BCA62490889  004C060F-EDBC-4580-8DA5-541C71C80089   \n",
       "\n",
       "   Rating  weightedRating  \n",
       "0       3             3.0  \n",
       "1       5             5.0  \n",
       "2       3             3.0  \n",
       "3       5             5.0  \n",
       "4       5             5.0  "
      ]
     },
     "execution_count": 85,
     "metadata": {},
     "output_type": "execute_result"
    }
   ],
   "source": [
    "topUsersRating['weightedRating'] = topUsersRating['similarityIndex']*topUsersRating['Rating']\n",
    "topUsersRating['weightedRating'] = topUsersRating['weightedRating'].astype(float)\n",
    "topUsersRating.head()"
   ]
  },
  {
   "cell_type": "code",
   "execution_count": 86,
   "id": "d7295125",
   "metadata": {
    "colab": {
     "base_uri": "https://localhost:8080/",
     "height": 235
    },
    "id": "d7295125",
    "outputId": "7d5fa10b-f266-4038-ab04-917bbdaaae2c"
   },
   "outputs": [
    {
     "data": {
      "text/html": [
       "<div>\n",
       "<style scoped>\n",
       "    .dataframe tbody tr th:only-of-type {\n",
       "        vertical-align: middle;\n",
       "    }\n",
       "\n",
       "    .dataframe tbody tr th {\n",
       "        vertical-align: top;\n",
       "    }\n",
       "\n",
       "    .dataframe thead th {\n",
       "        text-align: right;\n",
       "    }\n",
       "</style>\n",
       "<table border=\"1\" class=\"dataframe\">\n",
       "  <thead>\n",
       "    <tr style=\"text-align: right;\">\n",
       "      <th></th>\n",
       "      <th>sum_similarityIndex</th>\n",
       "      <th>sum_weightedRating</th>\n",
       "    </tr>\n",
       "    <tr>\n",
       "      <th>IdItem</th>\n",
       "      <th></th>\n",
       "      <th></th>\n",
       "    </tr>\n",
       "  </thead>\n",
       "  <tbody>\n",
       "    <tr>\n",
       "      <th>004C060F-EDBC-4580-8DA5-541C71C80089</th>\n",
       "      <td>1.0</td>\n",
       "      <td>5.0</td>\n",
       "    </tr>\n",
       "    <tr>\n",
       "      <th>00EE6E6D-39EF-4758-BFFF-5A8973740A72</th>\n",
       "      <td>0.0</td>\n",
       "      <td>0.0</td>\n",
       "    </tr>\n",
       "    <tr>\n",
       "      <th>015EABBE-0165-496F-9DCB-1FFB1FA5FDFE</th>\n",
       "      <td>0.0</td>\n",
       "      <td>0.0</td>\n",
       "    </tr>\n",
       "    <tr>\n",
       "      <th>017E8DE6-706E-482C-85A4-C1DED96C69A3</th>\n",
       "      <td>0.0</td>\n",
       "      <td>0.0</td>\n",
       "    </tr>\n",
       "    <tr>\n",
       "      <th>02CD16A8-CE6F-4922-ABD6-40C163EEDF2A</th>\n",
       "      <td>0.0</td>\n",
       "      <td>0.0</td>\n",
       "    </tr>\n",
       "  </tbody>\n",
       "</table>\n",
       "</div>"
      ],
      "text/plain": [
       "                                      sum_similarityIndex  sum_weightedRating\n",
       "IdItem                                                                       \n",
       "004C060F-EDBC-4580-8DA5-541C71C80089                  1.0                 5.0\n",
       "00EE6E6D-39EF-4758-BFFF-5A8973740A72                  0.0                 0.0\n",
       "015EABBE-0165-496F-9DCB-1FFB1FA5FDFE                  0.0                 0.0\n",
       "017E8DE6-706E-482C-85A4-C1DED96C69A3                  0.0                 0.0\n",
       "02CD16A8-CE6F-4922-ABD6-40C163EEDF2A                  0.0                 0.0"
      ]
     },
     "execution_count": 86,
     "metadata": {},
     "output_type": "execute_result"
    }
   ],
   "source": [
    "tempTopUsersRating = topUsersRating.groupby('IdItem').sum()[['similarityIndex','weightedRating']]\n",
    "tempTopUsersRating.columns = ['sum_similarityIndex','sum_weightedRating']\n",
    "tempTopUsersRating.head()"
   ]
  },
  {
   "cell_type": "code",
   "execution_count": 87,
   "id": "d684a52d",
   "metadata": {
    "colab": {
     "base_uri": "https://localhost:8080/",
     "height": 235
    },
    "id": "d684a52d",
    "outputId": "15c0a9f6-ca7a-46dd-f257-afa98a0a2145"
   },
   "outputs": [
    {
     "data": {
      "text/html": [
       "<div>\n",
       "<style scoped>\n",
       "    .dataframe tbody tr th:only-of-type {\n",
       "        vertical-align: middle;\n",
       "    }\n",
       "\n",
       "    .dataframe tbody tr th {\n",
       "        vertical-align: top;\n",
       "    }\n",
       "\n",
       "    .dataframe thead th {\n",
       "        text-align: right;\n",
       "    }\n",
       "</style>\n",
       "<table border=\"1\" class=\"dataframe\">\n",
       "  <thead>\n",
       "    <tr style=\"text-align: right;\">\n",
       "      <th></th>\n",
       "      <th>weighted average recommendation score</th>\n",
       "      <th>item_id</th>\n",
       "    </tr>\n",
       "    <tr>\n",
       "      <th>IdItem</th>\n",
       "      <th></th>\n",
       "      <th></th>\n",
       "    </tr>\n",
       "  </thead>\n",
       "  <tbody>\n",
       "    <tr>\n",
       "      <th>004C060F-EDBC-4580-8DA5-541C71C80089</th>\n",
       "      <td>5.0</td>\n",
       "      <td>004C060F-EDBC-4580-8DA5-541C71C80089</td>\n",
       "    </tr>\n",
       "    <tr>\n",
       "      <th>00EE6E6D-39EF-4758-BFFF-5A8973740A72</th>\n",
       "      <td>NaN</td>\n",
       "      <td>00EE6E6D-39EF-4758-BFFF-5A8973740A72</td>\n",
       "    </tr>\n",
       "    <tr>\n",
       "      <th>015EABBE-0165-496F-9DCB-1FFB1FA5FDFE</th>\n",
       "      <td>NaN</td>\n",
       "      <td>015EABBE-0165-496F-9DCB-1FFB1FA5FDFE</td>\n",
       "    </tr>\n",
       "    <tr>\n",
       "      <th>017E8DE6-706E-482C-85A4-C1DED96C69A3</th>\n",
       "      <td>NaN</td>\n",
       "      <td>017E8DE6-706E-482C-85A4-C1DED96C69A3</td>\n",
       "    </tr>\n",
       "    <tr>\n",
       "      <th>02CD16A8-CE6F-4922-ABD6-40C163EEDF2A</th>\n",
       "      <td>NaN</td>\n",
       "      <td>02CD16A8-CE6F-4922-ABD6-40C163EEDF2A</td>\n",
       "    </tr>\n",
       "  </tbody>\n",
       "</table>\n",
       "</div>"
      ],
      "text/plain": [
       "                                      weighted average recommendation score  \\\n",
       "IdItem                                                                        \n",
       "004C060F-EDBC-4580-8DA5-541C71C80089                                    5.0   \n",
       "00EE6E6D-39EF-4758-BFFF-5A8973740A72                                    NaN   \n",
       "015EABBE-0165-496F-9DCB-1FFB1FA5FDFE                                    NaN   \n",
       "017E8DE6-706E-482C-85A4-C1DED96C69A3                                    NaN   \n",
       "02CD16A8-CE6F-4922-ABD6-40C163EEDF2A                                    NaN   \n",
       "\n",
       "                                                                   item_id  \n",
       "IdItem                                                                      \n",
       "004C060F-EDBC-4580-8DA5-541C71C80089  004C060F-EDBC-4580-8DA5-541C71C80089  \n",
       "00EE6E6D-39EF-4758-BFFF-5A8973740A72  00EE6E6D-39EF-4758-BFFF-5A8973740A72  \n",
       "015EABBE-0165-496F-9DCB-1FFB1FA5FDFE  015EABBE-0165-496F-9DCB-1FFB1FA5FDFE  \n",
       "017E8DE6-706E-482C-85A4-C1DED96C69A3  017E8DE6-706E-482C-85A4-C1DED96C69A3  \n",
       "02CD16A8-CE6F-4922-ABD6-40C163EEDF2A  02CD16A8-CE6F-4922-ABD6-40C163EEDF2A  "
      ]
     },
     "execution_count": 87,
     "metadata": {},
     "output_type": "execute_result"
    }
   ],
   "source": [
    "recommendation_df = pd.DataFrame()\n",
    "recommendation_df['weighted average recommendation score'] = tempTopUsersRating['sum_weightedRating']/tempTopUsersRating['sum_similarityIndex']\n",
    "recommendation_df['item_id'] = tempTopUsersRating.index\n",
    "recommendation_df.head()"
   ]
  },
  {
   "cell_type": "markdown",
   "id": "46ca52da",
   "metadata": {
    "id": "46ca52da"
   },
   "source": [
    "Ordenamos de mayor a menor los items con mayor puntuación calculada por el sistema de recomendación"
   ]
  },
  {
   "cell_type": "code",
   "execution_count": 88,
   "id": "5e9ba00b",
   "metadata": {
    "colab": {
     "base_uri": "https://localhost:8080/",
     "height": 235
    },
    "id": "5e9ba00b",
    "outputId": "e4358a4f-bc5f-4f9a-d56d-6ba0747ec7ff"
   },
   "outputs": [
    {
     "data": {
      "text/html": [
       "<div>\n",
       "<style scoped>\n",
       "    .dataframe tbody tr th:only-of-type {\n",
       "        vertical-align: middle;\n",
       "    }\n",
       "\n",
       "    .dataframe tbody tr th {\n",
       "        vertical-align: top;\n",
       "    }\n",
       "\n",
       "    .dataframe thead th {\n",
       "        text-align: right;\n",
       "    }\n",
       "</style>\n",
       "<table border=\"1\" class=\"dataframe\">\n",
       "  <thead>\n",
       "    <tr style=\"text-align: right;\">\n",
       "      <th></th>\n",
       "      <th>weighted average recommendation score</th>\n",
       "      <th>item_id</th>\n",
       "    </tr>\n",
       "    <tr>\n",
       "      <th>IdItem</th>\n",
       "      <th></th>\n",
       "      <th></th>\n",
       "    </tr>\n",
       "  </thead>\n",
       "  <tbody>\n",
       "    <tr>\n",
       "      <th>30E80572-F83A-4C8E-9902-F0D46966B5FA</th>\n",
       "      <td>10.686932</td>\n",
       "      <td>30E80572-F83A-4C8E-9902-F0D46966B5FA</td>\n",
       "    </tr>\n",
       "    <tr>\n",
       "      <th>004C060F-EDBC-4580-8DA5-541C71C80089</th>\n",
       "      <td>5.000000</td>\n",
       "      <td>004C060F-EDBC-4580-8DA5-541C71C80089</td>\n",
       "    </tr>\n",
       "    <tr>\n",
       "      <th>42A86388-3036-4656-8A61-F09EE422F166</th>\n",
       "      <td>5.000000</td>\n",
       "      <td>42A86388-3036-4656-8A61-F09EE422F166</td>\n",
       "    </tr>\n",
       "    <tr>\n",
       "      <th>E4CCB273-A9CA-4711-BC0A-ABB311F29305</th>\n",
       "      <td>5.000000</td>\n",
       "      <td>E4CCB273-A9CA-4711-BC0A-ABB311F29305</td>\n",
       "    </tr>\n",
       "    <tr>\n",
       "      <th>E163F3A2-4172-450E-B03A-AAFF2BE38B02</th>\n",
       "      <td>5.000000</td>\n",
       "      <td>E163F3A2-4172-450E-B03A-AAFF2BE38B02</td>\n",
       "    </tr>\n",
       "  </tbody>\n",
       "</table>\n",
       "</div>"
      ],
      "text/plain": [
       "                                      weighted average recommendation score  \\\n",
       "IdItem                                                                        \n",
       "30E80572-F83A-4C8E-9902-F0D46966B5FA                              10.686932   \n",
       "004C060F-EDBC-4580-8DA5-541C71C80089                               5.000000   \n",
       "42A86388-3036-4656-8A61-F09EE422F166                               5.000000   \n",
       "E4CCB273-A9CA-4711-BC0A-ABB311F29305                               5.000000   \n",
       "E163F3A2-4172-450E-B03A-AAFF2BE38B02                               5.000000   \n",
       "\n",
       "                                                                   item_id  \n",
       "IdItem                                                                      \n",
       "30E80572-F83A-4C8E-9902-F0D46966B5FA  30E80572-F83A-4C8E-9902-F0D46966B5FA  \n",
       "004C060F-EDBC-4580-8DA5-541C71C80089  004C060F-EDBC-4580-8DA5-541C71C80089  \n",
       "42A86388-3036-4656-8A61-F09EE422F166  42A86388-3036-4656-8A61-F09EE422F166  \n",
       "E4CCB273-A9CA-4711-BC0A-ABB311F29305  E4CCB273-A9CA-4711-BC0A-ABB311F29305  \n",
       "E163F3A2-4172-450E-B03A-AAFF2BE38B02  E163F3A2-4172-450E-B03A-AAFF2BE38B02  "
      ]
     },
     "execution_count": 88,
     "metadata": {},
     "output_type": "execute_result"
    }
   ],
   "source": [
    "recommendation_df = recommendation_df.sort_values(by='weighted average recommendation score', ascending=False)\n",
    "recommendation_df.head(5)"
   ]
  },
  {
   "cell_type": "markdown",
   "id": "d4cdd347",
   "metadata": {
    "id": "d4cdd347"
   },
   "source": [
    "Mostramos los 10 productos que el sistema de recomendación ha obtenido"
   ]
  },
  {
   "cell_type": "code",
   "execution_count": 90,
   "id": "52ab44b7",
   "metadata": {
    "colab": {
     "base_uri": "https://localhost:8080/",
     "height": 204
    },
    "id": "52ab44b7",
    "outputId": "63513fc1-d47b-482b-9b13-1245a355ffbd"
   },
   "outputs": [
    {
     "data": {
      "text/html": [
       "<div>\n",
       "<style scoped>\n",
       "    .dataframe tbody tr th:only-of-type {\n",
       "        vertical-align: middle;\n",
       "    }\n",
       "\n",
       "    .dataframe tbody tr th {\n",
       "        vertical-align: top;\n",
       "    }\n",
       "\n",
       "    .dataframe thead th {\n",
       "        text-align: right;\n",
       "    }\n",
       "</style>\n",
       "<table border=\"1\" class=\"dataframe\">\n",
       "  <thead>\n",
       "    <tr style=\"text-align: right;\">\n",
       "      <th></th>\n",
       "      <th>EntityCode</th>\n",
       "      <th>Nombre</th>\n",
       "    </tr>\n",
       "  </thead>\n",
       "  <tbody>\n",
       "    <tr>\n",
       "      <th>849</th>\n",
       "      <td>BBD23D9A-7E41-4B73-BD2E-35459DC4E96C</td>\n",
       "      <td>Aceites EL REY PRESENTACION NO REPORTADA</td>\n",
       "    </tr>\n",
       "    <tr>\n",
       "      <th>2274</th>\n",
       "      <td>C01DABAA-30FC-4859-A0ED-8513E34D9B64</td>\n",
       "      <td>Chucherías Dulces PERUGINA SIN PRESENTACION</td>\n",
       "    </tr>\n",
       "    <tr>\n",
       "      <th>3140</th>\n",
       "      <td>BDFA4426-2ACC-4906-B512-B38B2360C13E</td>\n",
       "      <td>Embutidos (mortadela) CARACAS SIN PRESENTACION</td>\n",
       "    </tr>\n",
       "    <tr>\n",
       "      <th>3805</th>\n",
       "      <td>E163F3A2-4172-450E-B03A-AAFF2BE38B02</td>\n",
       "      <td>Harina  Precocida de Maíz JUANA SIN PRESENTACION</td>\n",
       "    </tr>\n",
       "    <tr>\n",
       "      <th>5466</th>\n",
       "      <td>30E80572-F83A-4C8E-9902-F0D46966B5FA</td>\n",
       "      <td>Leche Liquida Refrigerada TACHIRA (PAISA) 1 L</td>\n",
       "    </tr>\n",
       "    <tr>\n",
       "      <th>5469</th>\n",
       "      <td>E4CCB273-A9CA-4711-BC0A-ABB311F29305</td>\n",
       "      <td>Leche Liquida Refrigerada TACHIRA (PAISA) OTRA...</td>\n",
       "    </tr>\n",
       "    <tr>\n",
       "      <th>6017</th>\n",
       "      <td>42A86388-3036-4656-8A61-F09EE422F166</td>\n",
       "      <td>Arroz OTRA 500 GRS</td>\n",
       "    </tr>\n",
       "    <tr>\n",
       "      <th>6807</th>\n",
       "      <td>B9C43AE9-3B52-4B4E-83C7-A6AA96EFCCA1</td>\n",
       "      <td>Mayonesa MARCA NO REPORTADA BOLSA 100 - 400 cc</td>\n",
       "    </tr>\n",
       "    <tr>\n",
       "      <th>7534</th>\n",
       "      <td>004C060F-EDBC-4580-8DA5-541C71C80089</td>\n",
       "      <td>Atún Enlatado NEPTUNO SIN PRESENTACION</td>\n",
       "    </tr>\n",
       "    <tr>\n",
       "      <th>10064</th>\n",
       "      <td>DC579D20-4DEE-49A6-A1E0-DE8E45C68095</td>\n",
       "      <td>Sopas de Lata OTRA 113 GRS</td>\n",
       "    </tr>\n",
       "  </tbody>\n",
       "</table>\n",
       "</div>"
      ],
      "text/plain": [
       "                                 EntityCode  \\\n",
       "849    BBD23D9A-7E41-4B73-BD2E-35459DC4E96C   \n",
       "2274   C01DABAA-30FC-4859-A0ED-8513E34D9B64   \n",
       "3140   BDFA4426-2ACC-4906-B512-B38B2360C13E   \n",
       "3805   E163F3A2-4172-450E-B03A-AAFF2BE38B02   \n",
       "5466   30E80572-F83A-4C8E-9902-F0D46966B5FA   \n",
       "5469   E4CCB273-A9CA-4711-BC0A-ABB311F29305   \n",
       "6017   42A86388-3036-4656-8A61-F09EE422F166   \n",
       "6807   B9C43AE9-3B52-4B4E-83C7-A6AA96EFCCA1   \n",
       "7534   004C060F-EDBC-4580-8DA5-541C71C80089   \n",
       "10064  DC579D20-4DEE-49A6-A1E0-DE8E45C68095   \n",
       "\n",
       "                                                  Nombre  \n",
       "849             Aceites EL REY PRESENTACION NO REPORTADA  \n",
       "2274         Chucherías Dulces PERUGINA SIN PRESENTACION  \n",
       "3140      Embutidos (mortadela) CARACAS SIN PRESENTACION  \n",
       "3805    Harina  Precocida de Maíz JUANA SIN PRESENTACION  \n",
       "5466       Leche Liquida Refrigerada TACHIRA (PAISA) 1 L  \n",
       "5469   Leche Liquida Refrigerada TACHIRA (PAISA) OTRA...  \n",
       "6017                                  Arroz OTRA 500 GRS  \n",
       "6807      Mayonesa MARCA NO REPORTADA BOLSA 100 - 400 cc  \n",
       "7534              Atún Enlatado NEPTUNO SIN PRESENTACION  \n",
       "10064                         Sopas de Lata OTRA 113 GRS  "
      ]
     },
     "execution_count": 90,
     "metadata": {},
     "output_type": "execute_result"
    }
   ],
   "source": [
    "items_df.loc[items_df['EntityCode'].isin(recommendation_df.head(10)['item_id'].tolist())]"
   ]
  },
  {
   "cell_type": "markdown",
   "id": "3902b3d5",
   "metadata": {},
   "source": [
    "Los 10 productos recomendados son:\n",
    "- Aceites EL REY PRESENTACION NO REPORTADA\n",
    "- Chucherías Dulces PERUGINA SIN PRESENTACION\n",
    "- Embutidos (mortadela) CARACAS SIN PRESENTACION\n",
    "- Harina Precocida de Maíz JUANA SIN PRESENTACION\n",
    "- Leche Liquida Refrigerada TACHIRA (PAISA) 1 L\n",
    "- Leche Liquida Refrigerada TACHIRA (PAISA) OTRA\n",
    "- Arroz OTRA 500 GRS\n",
    "- Mayonesa MARCA NO REPORTADA BOLSA 100 - 400 cc\n",
    "- Atún Enlatado NEPTUNO SIN PRESENTACION\n",
    "- Sopas de Lata OTRA 113 GRS"
   ]
  }
 ],
 "metadata": {
  "colab": {
   "collapsed_sections": [],
   "name": "RecommendationSystem.ipynb",
   "provenance": []
  },
  "kernelspec": {
   "display_name": "Python 3 (ipykernel)",
   "language": "python",
   "name": "python3"
  },
  "language_info": {
   "codemirror_mode": {
    "name": "ipython",
    "version": 3
   },
   "file_extension": ".py",
   "mimetype": "text/x-python",
   "name": "python",
   "nbconvert_exporter": "python",
   "pygments_lexer": "ipython3",
   "version": "3.9.12"
  }
 },
 "nbformat": 4,
 "nbformat_minor": 5
}
